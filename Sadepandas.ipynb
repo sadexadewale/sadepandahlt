{
 "cells": [
  {
   "cell_type": "code",
   "execution_count": 1,
   "metadata": {},
   "outputs": [],
   "source": [
    "import pandas as pd"
   ]
  },
  {
   "cell_type": "code",
   "execution_count": 2,
   "metadata": {},
   "outputs": [
    {
     "name": "stdout",
     "output_type": "stream",
     "text": [
      "[439, 98, 65, 'carrot', 'parrot']\n",
      "[439, 98, 65, 'carrot', 'parrot']\n"
     ]
    }
   ],
   "source": [
    "myseries = pd.Series([439, 98, 65, 'carrot', 'parrot'])\n",
    "mylist = [439, 98, 65, 'carrot', 'parrot']\n",
    "\n",
    "print(mylist)\n",
    "print(mylist)"
   ]
  },
  {
   "cell_type": "code",
   "execution_count": 3,
   "metadata": {},
   "outputs": [
    {
     "name": "stdout",
     "output_type": "stream",
     "text": [
      "hello\n"
     ]
    }
   ],
   "source": [
    "print(\"hello\")"
   ]
  },
  {
   "cell_type": "code",
   "execution_count": 4,
   "metadata": {},
   "outputs": [
    {
     "name": "stdout",
     "output_type": "stream",
     "text": [
      "(439, 98, 65, 'carrot', 'parrot')\n"
     ]
    }
   ],
   "source": [
    "mylist = (439, 98, 65, 'carrot', 'parrot')\n",
    "print(mylist)"
   ]
  },
  {
   "cell_type": "code",
   "execution_count": 11,
   "metadata": {},
   "outputs": [],
   "source": [
    "import pandas as pd"
   ]
  },
  {
   "cell_type": "code",
   "execution_count": 12,
   "metadata": {},
   "outputs": [
    {
     "name": "stdout",
     "output_type": "stream",
     "text": [
      "   Destination  Feedback (1-10)  Average Hotel Star  \\\n",
      "0        Spain                7                   3   \n",
      "1      Holland                8                   4   \n",
      "2        India                4                   4   \n",
      "3       Greece                8                   3   \n",
      "4       France                7                   4   \n",
      "5      Germany                5                   4   \n",
      "6          USA                8                   3   \n",
      "7        Italy                5                   5   \n",
      "8       Norway                6                   3   \n",
      "9      Denmark                7                   4   \n",
      "10     Jamaica                5                   4   \n",
      "11    Barbados                8                   3   \n",
      "12    Portugal                6                   3   \n",
      "13       Kenya                7                   2   \n",
      "\n",
      "    No. of all inclusiive Holiday  Most Visited City  \n",
      "0                             2134            Madrid  \n",
      "1                              345         Amsterdam  \n",
      "2                             2000             Delhi  \n",
      "3                             3244            Athens  \n",
      "4                             1234             Paris  \n",
      "5                           123444            Berlin  \n",
      "6                             4321          New York  \n",
      "7                              234              Rome  \n",
      "8                              123              Oslo  \n",
      "9                              156        Copenhagen  \n",
      "10                             245       Montego Bay  \n",
      "11                             356        bridgetown  \n",
      "12                             321            Lisbon  \n",
      "13                             546          Mombassa  \n"
     ]
    }
   ],
   "source": [
    "Holdata = pd.read_csv(\"Holdata.csv\")\n",
    "\n",
    "print (Holdata)"
   ]
  },
  {
   "cell_type": "code",
   "execution_count": 13,
   "metadata": {},
   "outputs": [
    {
     "name": "stdout",
     "output_type": "stream",
     "text": [
      "0        Spain\n",
      "1      Holland\n",
      "2        India\n",
      "3       Greece\n",
      "4       France\n",
      "5      Germany\n",
      "6          USA\n",
      "7        Italy\n",
      "8       Norway\n",
      "9      Denmark\n",
      "10     Jamaica\n",
      "11    Barbados\n",
      "12    Portugal\n",
      "13       Kenya\n",
      "Name: Destination, dtype: object\n"
     ]
    }
   ],
   "source": [
    "## retrieving pet name as a series\n",
    "print(Holdata[\"Destination\"])"
   ]
  },
  {
   "cell_type": "code",
   "execution_count": 14,
   "metadata": {},
   "outputs": [
    {
     "name": "stdout",
     "output_type": "stream",
     "text": [
      "   Destination\n",
      "0        Spain\n",
      "1      Holland\n",
      "2        India\n",
      "3       Greece\n",
      "4       France\n",
      "5      Germany\n",
      "6          USA\n",
      "7        Italy\n",
      "8       Norway\n",
      "9      Denmark\n",
      "10     Jamaica\n",
      "11    Barbados\n",
      "12    Portugal\n",
      "13       Kenya\n"
     ]
    }
   ],
   "source": [
    "## retrieving pet name as a dataframe\n",
    "print(Holdata[[\"Destination\"]])"
   ]
  },
  {
   "cell_type": "code",
   "execution_count": 15,
   "metadata": {},
   "outputs": [
    {
     "name": "stdout",
     "output_type": "stream",
     "text": [
      "   Destination Most Visited City\n",
      "0        Spain            Madrid\n",
      "1      Holland         Amsterdam\n",
      "2        India             Delhi\n",
      "3       Greece            Athens\n",
      "4       France             Paris\n",
      "5      Germany            Berlin\n",
      "6          USA          New York\n",
      "7        Italy              Rome\n",
      "8       Norway              Oslo\n",
      "9      Denmark        Copenhagen\n",
      "10     Jamaica       Montego Bay\n",
      "11    Barbados        bridgetown\n",
      "12    Portugal            Lisbon\n",
      "13       Kenya          Mombassa\n"
     ]
    }
   ],
   "source": [
    "print(Holdata[[\"Destination\",\"Most Visited City\"]])"
   ]
  },
  {
   "cell_type": "markdown",
   "metadata": {},
   "source": [
    "Homework Task 2"
   ]
  },
  {
   "cell_type": "code",
   "execution_count": 34,
   "metadata": {},
   "outputs": [
    {
     "name": "stdout",
     "output_type": "stream",
     "text": [
      "  Destination  Feedback (1-10)  Average Hotel Star  \\\n",
      "3      Greece                8                   3   \n",
      "4      France                7                   4   \n",
      "5     Germany                5                   4   \n",
      "6         USA                8                   3   \n",
      "7       Italy                5                   5   \n",
      "8      Norway                6                   3   \n",
      "\n",
      "   No. of all inclusiive Holiday  Most Visited City  \n",
      "3                            3244            Athens  \n",
      "4                            1234             Paris  \n",
      "5                          123444            Berlin  \n",
      "6                            4321          New York  \n",
      "7                             234              Rome  \n",
      "8                             123              Oslo  \n"
     ]
    }
   ],
   "source": [
    "print(Holdata[3:9])"
   ]
  },
  {
   "cell_type": "code",
   "execution_count": 22,
   "metadata": {},
   "outputs": [
    {
     "name": "stdout",
     "output_type": "stream",
     "text": [
      "Destination                         Holland\n",
      "Feedback (1-10)                           8\n",
      "Average Hotel Star                        4\n",
      "No. of all inclusiive Holiday           345\n",
      "Most Visited City                 Amsterdam\n",
      "Name: 1, dtype: object\n"
     ]
    }
   ],
   "source": [
    "print(Holdata.iloc[1])"
   ]
  },
  {
   "cell_type": "code",
   "execution_count": 25,
   "metadata": {},
   "outputs": [
    {
     "name": "stdout",
     "output_type": "stream",
     "text": [
      "             Feedback (1-10)  Average Hotel Star  \\\n",
      "Destination                                        \n",
      "India                      4                   4   \n",
      "Greece                     8                   3   \n",
      "\n",
      "             No. of all inclusiive Holiday  Most Visited City  \n",
      "Destination                                                    \n",
      "India                                  2000             Delhi  \n",
      "Greece                                 3244            Athens  \n"
     ]
    }
   ],
   "source": [
    "Holdata = pd.read_csv(\"Holdata.csv\", index_col=\"Destination\")\n",
    "print(Holdata.loc[[\"India\", \"Greece\"]])"
   ]
  },
  {
   "cell_type": "code",
   "execution_count": 27,
   "metadata": {},
   "outputs": [
    {
     "name": "stdout",
     "output_type": "stream",
     "text": [
      "Athens\n"
     ]
    }
   ],
   "source": [
    "Holdata = pd.read_csv(\"Holdata.csv\")\n",
    "print(Holdata.iloc[3, 4])"
   ]
  },
  {
   "cell_type": "code",
   "execution_count": 40,
   "metadata": {},
   "outputs": [
    {
     "name": "stdout",
     "output_type": "stream",
     "text": [
      "  Destination  Feedback (1-10)  Average Hotel Star\n",
      "3      Greece                8                   3\n",
      "4      France                7                   4\n",
      "5     Germany                5                   4\n",
      "6         USA                8                   3\n",
      "7       Italy                5                   5\n",
      "8      Norway                6                   3\n"
     ]
    }
   ],
   "source": [
    "Holdata = pd.read_csv(\"Holdata.csv\")\n",
    "print(Holdata.iloc[3:9,0:3])"
   ]
  },
  {
   "cell_type": "code",
   "execution_count": 41,
   "metadata": {},
   "outputs": [],
   "source": [
    "import pandas as pd"
   ]
  },
  {
   "cell_type": "code",
   "execution_count": 43,
   "metadata": {},
   "outputs": [
    {
     "data": {
      "text/plain": [
       "(14, 5)"
      ]
     },
     "execution_count": 43,
     "metadata": {},
     "output_type": "execute_result"
    }
   ],
   "source": [
    "#Homework Task 1\n",
    "Holdata = pd.read_csv(\"Holdata.csv\")\n",
    "Holdata.shape"
   ]
  },
  {
   "cell_type": "code",
   "execution_count": 47,
   "metadata": {},
   "outputs": [
    {
     "data": {
      "text/html": [
       "<div>\n",
       "<style scoped>\n",
       "    .dataframe tbody tr th:only-of-type {\n",
       "        vertical-align: middle;\n",
       "    }\n",
       "\n",
       "    .dataframe tbody tr th {\n",
       "        vertical-align: top;\n",
       "    }\n",
       "\n",
       "    .dataframe thead th {\n",
       "        text-align: right;\n",
       "    }\n",
       "</style>\n",
       "<table border=\"1\" class=\"dataframe\">\n",
       "  <thead>\n",
       "    <tr style=\"text-align: right;\">\n",
       "      <th></th>\n",
       "      <th>Destination</th>\n",
       "      <th>Feedback (1-10)</th>\n",
       "      <th>Average Hotel Star</th>\n",
       "      <th>No. of all inclusiive Holiday</th>\n",
       "      <th>Most Visited City</th>\n",
       "    </tr>\n",
       "  </thead>\n",
       "  <tbody>\n",
       "    <tr>\n",
       "      <th>0</th>\n",
       "      <td>Spain</td>\n",
       "      <td>7</td>\n",
       "      <td>3</td>\n",
       "      <td>2134</td>\n",
       "      <td>Madrid</td>\n",
       "    </tr>\n",
       "    <tr>\n",
       "      <th>1</th>\n",
       "      <td>Holland</td>\n",
       "      <td>8</td>\n",
       "      <td>4</td>\n",
       "      <td>345</td>\n",
       "      <td>Amsterdam</td>\n",
       "    </tr>\n",
       "  </tbody>\n",
       "</table>\n",
       "</div>"
      ],
      "text/plain": [
       "  Destination  Feedback (1-10)  Average Hotel Star  \\\n",
       "0       Spain                7                   3   \n",
       "1     Holland                8                   4   \n",
       "\n",
       "   No. of all inclusiive Holiday  Most Visited City  \n",
       "0                            2134            Madrid  \n",
       "1                             345         Amsterdam  "
      ]
     },
     "execution_count": 47,
     "metadata": {},
     "output_type": "execute_result"
    }
   ],
   "source": [
    "Holdata = pd.read_csv(\"Holdata.csv\")\n",
    "Holdata.head (2)\n",
    "\n",
    "            "
   ]
  },
  {
   "cell_type": "code",
   "execution_count": 46,
   "metadata": {},
   "outputs": [
    {
     "data": {
      "text/html": [
       "<div>\n",
       "<style scoped>\n",
       "    .dataframe tbody tr th:only-of-type {\n",
       "        vertical-align: middle;\n",
       "    }\n",
       "\n",
       "    .dataframe tbody tr th {\n",
       "        vertical-align: top;\n",
       "    }\n",
       "\n",
       "    .dataframe thead th {\n",
       "        text-align: right;\n",
       "    }\n",
       "</style>\n",
       "<table border=\"1\" class=\"dataframe\">\n",
       "  <thead>\n",
       "    <tr style=\"text-align: right;\">\n",
       "      <th></th>\n",
       "      <th>Destination</th>\n",
       "      <th>Feedback (1-10)</th>\n",
       "      <th>Average Hotel Star</th>\n",
       "      <th>No. of all inclusiive Holiday</th>\n",
       "      <th>Most Visited City</th>\n",
       "    </tr>\n",
       "  </thead>\n",
       "  <tbody>\n",
       "    <tr>\n",
       "      <th>10</th>\n",
       "      <td>Jamaica</td>\n",
       "      <td>5</td>\n",
       "      <td>4</td>\n",
       "      <td>245</td>\n",
       "      <td>Montego Bay</td>\n",
       "    </tr>\n",
       "    <tr>\n",
       "      <th>11</th>\n",
       "      <td>Barbados</td>\n",
       "      <td>8</td>\n",
       "      <td>3</td>\n",
       "      <td>356</td>\n",
       "      <td>bridgetown</td>\n",
       "    </tr>\n",
       "    <tr>\n",
       "      <th>12</th>\n",
       "      <td>Portugal</td>\n",
       "      <td>6</td>\n",
       "      <td>3</td>\n",
       "      <td>321</td>\n",
       "      <td>Lisbon</td>\n",
       "    </tr>\n",
       "    <tr>\n",
       "      <th>13</th>\n",
       "      <td>Kenya</td>\n",
       "      <td>7</td>\n",
       "      <td>2</td>\n",
       "      <td>546</td>\n",
       "      <td>Mombassa</td>\n",
       "    </tr>\n",
       "  </tbody>\n",
       "</table>\n",
       "</div>"
      ],
      "text/plain": [
       "   Destination  Feedback (1-10)  Average Hotel Star  \\\n",
       "10     Jamaica                5                   4   \n",
       "11    Barbados                8                   3   \n",
       "12    Portugal                6                   3   \n",
       "13       Kenya                7                   2   \n",
       "\n",
       "    No. of all inclusiive Holiday  Most Visited City  \n",
       "10                             245       Montego Bay  \n",
       "11                             356        bridgetown  \n",
       "12                             321            Lisbon  \n",
       "13                             546          Mombassa  "
      ]
     },
     "execution_count": 46,
     "metadata": {},
     "output_type": "execute_result"
    }
   ],
   "source": [
    "Holdata.tail (4)"
   ]
  },
  {
   "cell_type": "code",
   "execution_count": 48,
   "metadata": {},
   "outputs": [
    {
     "data": {
      "text/html": [
       "<div>\n",
       "<style scoped>\n",
       "    .dataframe tbody tr th:only-of-type {\n",
       "        vertical-align: middle;\n",
       "    }\n",
       "\n",
       "    .dataframe tbody tr th {\n",
       "        vertical-align: top;\n",
       "    }\n",
       "\n",
       "    .dataframe thead th {\n",
       "        text-align: right;\n",
       "    }\n",
       "</style>\n",
       "<table border=\"1\" class=\"dataframe\">\n",
       "  <thead>\n",
       "    <tr style=\"text-align: right;\">\n",
       "      <th></th>\n",
       "      <th>Destination</th>\n",
       "      <th>Feedback (1-10)</th>\n",
       "      <th>Average Hotel Star</th>\n",
       "      <th>No. of all inclusiive Holiday</th>\n",
       "      <th>Most Visited City</th>\n",
       "    </tr>\n",
       "  </thead>\n",
       "  <tbody>\n",
       "    <tr>\n",
       "      <th>0</th>\n",
       "      <td>Spain</td>\n",
       "      <td>7</td>\n",
       "      <td>3</td>\n",
       "      <td>2134</td>\n",
       "      <td>Madrid</td>\n",
       "    </tr>\n",
       "    <tr>\n",
       "      <th>1</th>\n",
       "      <td>Holland</td>\n",
       "      <td>8</td>\n",
       "      <td>4</td>\n",
       "      <td>345</td>\n",
       "      <td>Amsterdam</td>\n",
       "    </tr>\n",
       "    <tr>\n",
       "      <th>2</th>\n",
       "      <td>India</td>\n",
       "      <td>4</td>\n",
       "      <td>4</td>\n",
       "      <td>2000</td>\n",
       "      <td>Delhi</td>\n",
       "    </tr>\n",
       "    <tr>\n",
       "      <th>3</th>\n",
       "      <td>Greece</td>\n",
       "      <td>8</td>\n",
       "      <td>3</td>\n",
       "      <td>3244</td>\n",
       "      <td>Athens</td>\n",
       "    </tr>\n",
       "    <tr>\n",
       "      <th>4</th>\n",
       "      <td>France</td>\n",
       "      <td>7</td>\n",
       "      <td>4</td>\n",
       "      <td>1234</td>\n",
       "      <td>Paris</td>\n",
       "    </tr>\n",
       "  </tbody>\n",
       "</table>\n",
       "</div>"
      ],
      "text/plain": [
       "  Destination  Feedback (1-10)  Average Hotel Star  \\\n",
       "0       Spain                7                   3   \n",
       "1     Holland                8                   4   \n",
       "2       India                4                   4   \n",
       "3      Greece                8                   3   \n",
       "4      France                7                   4   \n",
       "\n",
       "   No. of all inclusiive Holiday  Most Visited City  \n",
       "0                            2134            Madrid  \n",
       "1                             345         Amsterdam  \n",
       "2                            2000             Delhi  \n",
       "3                            3244            Athens  \n",
       "4                            1234             Paris  "
      ]
     },
     "execution_count": 48,
     "metadata": {},
     "output_type": "execute_result"
    }
   ],
   "source": [
    "Holdata.head ()"
   ]
  },
  {
   "cell_type": "code",
   "execution_count": 51,
   "metadata": {},
   "outputs": [
    {
     "data": {
      "text/html": [
       "<div>\n",
       "<style scoped>\n",
       "    .dataframe tbody tr th:only-of-type {\n",
       "        vertical-align: middle;\n",
       "    }\n",
       "\n",
       "    .dataframe tbody tr th {\n",
       "        vertical-align: top;\n",
       "    }\n",
       "\n",
       "    .dataframe thead th {\n",
       "        text-align: right;\n",
       "    }\n",
       "</style>\n",
       "<table border=\"1\" class=\"dataframe\">\n",
       "  <thead>\n",
       "    <tr style=\"text-align: right;\">\n",
       "      <th></th>\n",
       "      <th>Most Visited City</th>\n",
       "    </tr>\n",
       "  </thead>\n",
       "  <tbody>\n",
       "    <tr>\n",
       "      <th>0</th>\n",
       "      <td>Madrid</td>\n",
       "    </tr>\n",
       "    <tr>\n",
       "      <th>1</th>\n",
       "      <td>Amsterdam</td>\n",
       "    </tr>\n",
       "    <tr>\n",
       "      <th>2</th>\n",
       "      <td>Delhi</td>\n",
       "    </tr>\n",
       "    <tr>\n",
       "      <th>3</th>\n",
       "      <td>Athens</td>\n",
       "    </tr>\n",
       "    <tr>\n",
       "      <th>4</th>\n",
       "      <td>Paris</td>\n",
       "    </tr>\n",
       "    <tr>\n",
       "      <th>5</th>\n",
       "      <td>Berlin</td>\n",
       "    </tr>\n",
       "    <tr>\n",
       "      <th>6</th>\n",
       "      <td>New York</td>\n",
       "    </tr>\n",
       "    <tr>\n",
       "      <th>7</th>\n",
       "      <td>Rome</td>\n",
       "    </tr>\n",
       "    <tr>\n",
       "      <th>8</th>\n",
       "      <td>Oslo</td>\n",
       "    </tr>\n",
       "    <tr>\n",
       "      <th>9</th>\n",
       "      <td>Copenhagen</td>\n",
       "    </tr>\n",
       "    <tr>\n",
       "      <th>10</th>\n",
       "      <td>Montego Bay</td>\n",
       "    </tr>\n",
       "    <tr>\n",
       "      <th>11</th>\n",
       "      <td>bridgetown</td>\n",
       "    </tr>\n",
       "    <tr>\n",
       "      <th>12</th>\n",
       "      <td>Lisbon</td>\n",
       "    </tr>\n",
       "    <tr>\n",
       "      <th>13</th>\n",
       "      <td>Mombassa</td>\n",
       "    </tr>\n",
       "  </tbody>\n",
       "</table>\n",
       "</div>"
      ],
      "text/plain": [
       "   Most Visited City\n",
       "0             Madrid\n",
       "1          Amsterdam\n",
       "2              Delhi\n",
       "3             Athens\n",
       "4              Paris\n",
       "5             Berlin\n",
       "6           New York\n",
       "7               Rome\n",
       "8               Oslo\n",
       "9         Copenhagen\n",
       "10       Montego Bay\n",
       "11        bridgetown\n",
       "12            Lisbon\n",
       "13          Mombassa"
      ]
     },
     "execution_count": 51,
     "metadata": {},
     "output_type": "execute_result"
    }
   ],
   "source": [
    "Holdata = pd.read_csv(\"Holdata.csv\")\n",
    "Holdata[[\"Most Visited City\"]]"
   ]
  },
  {
   "cell_type": "code",
   "execution_count": 107,
   "metadata": {},
   "outputs": [
    {
     "data": {
      "text/plain": [
       "pandas.core.series.Series"
      ]
     },
     "execution_count": 107,
     "metadata": {},
     "output_type": "execute_result"
    }
   ],
   "source": [
    "Holdata = pd.read_csv(\"Holdata.csv\")\n",
    "type(Holdata[\"Most Visited City\"])"
   ]
  },
  {
   "cell_type": "code",
   "execution_count": 71,
   "metadata": {},
   "outputs": [
    {
     "data": {
      "text/plain": [
       "9907.357142857143"
      ]
     },
     "execution_count": 71,
     "metadata": {},
     "output_type": "execute_result"
    }
   ],
   "source": [
    "#Homework 3\n",
    "import pandas as pd\n",
    "Holdata = pd.read_csv(\"Holdata.csv\")\n",
    "Holdata[\"No. of all inclusiive Holiday \"].mean()"
   ]
  },
  {
   "cell_type": "code",
   "execution_count": 72,
   "metadata": {},
   "outputs": [
    {
     "name": "stderr",
     "output_type": "stream",
     "text": [
      "C:\\Users\\sadex\\AppData\\Local\\Temp/ipykernel_20224/3874975955.py:4: FutureWarning: Dropping of nuisance columns in DataFrame reductions (with 'numeric_only=None') is deprecated; in a future version this will raise TypeError.  Select only valid columns before calling the reduction.\n",
      "  Holdata.mean()\n"
     ]
    },
    {
     "data": {
      "text/plain": [
       "Feedback (1-10)                      6.500000\n",
       "Average Hotel Star                   3.500000\n",
       "No. of all inclusiive Holiday     9907.357143\n",
       "dtype: float64"
      ]
     },
     "execution_count": 72,
     "metadata": {},
     "output_type": "execute_result"
    }
   ],
   "source": [
    "#Homework 3\n",
    "import pandas as pd\n",
    "Holdata = pd.read_csv(\"Holdata.csv\")\n",
    "Holdata.mean()"
   ]
  },
  {
   "cell_type": "code",
   "execution_count": 109,
   "metadata": {},
   "outputs": [
    {
     "data": {
      "text/plain": [
       "'Barbados'"
      ]
     },
     "execution_count": 109,
     "metadata": {},
     "output_type": "execute_result"
    }
   ],
   "source": [
    "#Homework Question 4\n",
    "import pandas as pd\n",
    "Holdata = pd.read_csv(\"Holdata.csv\")\n",
    "Holdata['Destination'].min()"
   ]
  },
  {
   "cell_type": "code",
   "execution_count": 108,
   "metadata": {},
   "outputs": [
    {
     "data": {
      "text/plain": [
       "'USA'"
      ]
     },
     "execution_count": 108,
     "metadata": {},
     "output_type": "execute_result"
    }
   ],
   "source": [
    "#Homework Question 5\n",
    "import pandas as pd\n",
    "Holdata = pd.read_csv(\"Holdata.csv\")\n",
    "Holdata['Destination'].max()"
   ]
  },
  {
   "cell_type": "code",
   "execution_count": 97,
   "metadata": {},
   "outputs": [
    {
     "data": {
      "text/plain": [
       "0      True\n",
       "1     False\n",
       "2      True\n",
       "3      True\n",
       "4      True\n",
       "5      True\n",
       "6      True\n",
       "7     False\n",
       "8     False\n",
       "9     False\n",
       "10    False\n",
       "11    False\n",
       "12    False\n",
       "13     True\n",
       "Name: No. of all inclusiive Holiday , dtype: bool"
      ]
     },
     "execution_count": 97,
     "metadata": {},
     "output_type": "execute_result"
    }
   ],
   "source": [
    "#Homework Question 6 adapted criteria as numbers were too high\n",
    "import pandas as pd\n",
    "Holdata = pd.read_csv(\"Holdata.csv\")\n",
    "Holdata[\"No. of all inclusiive Holiday \"]> 500\n"
   ]
  },
  {
   "cell_type": "code",
   "execution_count": 85,
   "metadata": {},
   "outputs": [
    {
     "data": {
      "text/plain": [
       "0     False\n",
       "1      True\n",
       "2     False\n",
       "3     False\n",
       "4     False\n",
       "5     False\n",
       "6     False\n",
       "7      True\n",
       "8      True\n",
       "9      True\n",
       "10     True\n",
       "11     True\n",
       "12     True\n",
       "13    False\n",
       "Name: No. of all inclusiive Holiday , dtype: bool"
      ]
     },
     "execution_count": 85,
     "metadata": {},
     "output_type": "execute_result"
    }
   ],
   "source": [
    "#Homework Question 7\n",
    "import pandas as pd\n",
    "Holdata = pd.read_csv(\"Holdata.csv\")\n",
    "Holdata[\"No. of all inclusiive Holiday \"]< 500"
   ]
  },
  {
   "cell_type": "code",
   "execution_count": null,
   "metadata": {},
   "outputs": [],
   "source": []
  },
  {
   "cell_type": "code",
   "execution_count": 94,
   "metadata": {},
   "outputs": [
    {
     "data": {
      "text/plain": [
       "0     False\n",
       "1     False\n",
       "2     False\n",
       "3     False\n",
       "4     False\n",
       "5     False\n",
       "6     False\n",
       "7     False\n",
       "8      True\n",
       "9      True\n",
       "10    False\n",
       "11    False\n",
       "12    False\n",
       "13    False\n",
       "Name: No. of all inclusiive Holiday , dtype: bool"
      ]
     },
     "execution_count": 94,
     "metadata": {},
     "output_type": "execute_result"
    }
   ],
   "source": [
    "#Homework Question 8\n",
    "import pandas as pd\n",
    "Holdata = pd.read_csv(\"Holdata.csv\")\n",
    "Holdata[\"No. of all inclusiive Holiday \"]< 200"
   ]
  },
  {
   "cell_type": "code",
   "execution_count": 112,
   "metadata": {},
   "outputs": [
    {
     "data": {
      "text/html": [
       "<div>\n",
       "<style scoped>\n",
       "    .dataframe tbody tr th:only-of-type {\n",
       "        vertical-align: middle;\n",
       "    }\n",
       "\n",
       "    .dataframe tbody tr th {\n",
       "        vertical-align: top;\n",
       "    }\n",
       "\n",
       "    .dataframe thead th {\n",
       "        text-align: right;\n",
       "    }\n",
       "</style>\n",
       "<table border=\"1\" class=\"dataframe\">\n",
       "  <thead>\n",
       "    <tr style=\"text-align: right;\">\n",
       "      <th></th>\n",
       "      <th>sepal length (cm)</th>\n",
       "      <th>sepal width (cm)</th>\n",
       "      <th>petal length (cm)</th>\n",
       "      <th>petal width (cm)</th>\n",
       "      <th>species</th>\n",
       "    </tr>\n",
       "  </thead>\n",
       "  <tbody>\n",
       "    <tr>\n",
       "      <th>0</th>\n",
       "      <td>5.1</td>\n",
       "      <td>3.5</td>\n",
       "      <td>1.4</td>\n",
       "      <td>0.2</td>\n",
       "      <td>0</td>\n",
       "    </tr>\n",
       "    <tr>\n",
       "      <th>1</th>\n",
       "      <td>4.9</td>\n",
       "      <td>3.0</td>\n",
       "      <td>1.4</td>\n",
       "      <td>0.2</td>\n",
       "      <td>0</td>\n",
       "    </tr>\n",
       "    <tr>\n",
       "      <th>2</th>\n",
       "      <td>4.7</td>\n",
       "      <td>3.2</td>\n",
       "      <td>1.3</td>\n",
       "      <td>0.2</td>\n",
       "      <td>0</td>\n",
       "    </tr>\n",
       "    <tr>\n",
       "      <th>3</th>\n",
       "      <td>4.6</td>\n",
       "      <td>3.1</td>\n",
       "      <td>1.5</td>\n",
       "      <td>0.2</td>\n",
       "      <td>0</td>\n",
       "    </tr>\n",
       "    <tr>\n",
       "      <th>4</th>\n",
       "      <td>5.0</td>\n",
       "      <td>3.6</td>\n",
       "      <td>1.4</td>\n",
       "      <td>0.2</td>\n",
       "      <td>0</td>\n",
       "    </tr>\n",
       "  </tbody>\n",
       "</table>\n",
       "</div>"
      ],
      "text/plain": [
       "   sepal length (cm)  sepal width (cm)  petal length (cm)  petal width (cm)  \\\n",
       "0                5.1               3.5                1.4               0.2   \n",
       "1                4.9               3.0                1.4               0.2   \n",
       "2                4.7               3.2                1.3               0.2   \n",
       "3                4.6               3.1                1.5               0.2   \n",
       "4                5.0               3.6                1.4               0.2   \n",
       "\n",
       "   species  \n",
       "0        0  \n",
       "1        0  \n",
       "2        0  \n",
       "3        0  \n",
       "4        0  "
      ]
     },
     "execution_count": 112,
     "metadata": {},
     "output_type": "execute_result"
    }
   ],
   "source": [
    "#######\n",
    "from sklearn.datasets import load_iris\n",
    "data = load_iris()\n",
    "df   = pd.DataFrame(data['data'], columns=data['feature_names'])\n",
    "df['species']= data['target']\n",
    "df.head()"
   ]
  }
 ],
 "metadata": {
  "interpreter": {
   "hash": "2be5faf79681da6f2a61fdfdd5405d65d042280f7fba6178067603e3a2925119"
  },
  "kernelspec": {
   "display_name": "Python 3.10.1 64-bit",
   "name": "python3"
  },
  "language_info": {
   "codemirror_mode": {
    "name": "ipython",
    "version": 3
   },
   "file_extension": ".py",
   "mimetype": "text/x-python",
   "name": "python",
   "nbconvert_exporter": "python",
   "pygments_lexer": "ipython3",
   "version": "3.10.1"
  },
  "orig_nbformat": 4
 },
 "nbformat": 4,
 "nbformat_minor": 2
}
